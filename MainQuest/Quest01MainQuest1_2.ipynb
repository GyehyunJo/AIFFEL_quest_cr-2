{
  "nbformat": 4,
  "nbformat_minor": 0,
  "metadata": {
    "colab": {
      "provenance": [],
      "authorship_tag": "ABX9TyMv2g0+aNSmVi9Ogpgss7eS",
      "include_colab_link": true
    },
    "kernelspec": {
      "name": "python3",
      "display_name": "Python 3"
    },
    "language_info": {
      "name": "python"
    }
  },
  "cells": [
    {
      "cell_type": "markdown",
      "metadata": {
        "id": "view-in-github",
        "colab_type": "text"
      },
      "source": [
        "<a href=\"https://colab.research.google.com/github/MSIMulti/AIFFEL_quest_cr/blob/master/MainQuest/Quest01MainQuest1_2.ipynb\" target=\"_parent\"><img src=\"https://colab.research.google.com/assets/colab-badge.svg\" alt=\"Open In Colab\"/></a>"
      ]
    },
    {
      "cell_type": "code",
      "execution_count": 9,
      "metadata": {
        "colab": {
          "base_uri": "https://localhost:8080/"
        },
        "id": "p6dKTlaKYR_w",
        "outputId": "0b148128-7d17-4593-b428-f947951d5416"
      },
      "outputs": [
        {
          "output_type": "stream",
          "name": "stdout",
          "text": [
            "플레이어의 이름을 입력하세요: 임만순\n",
            "슬라임과(와) 전투 시작!\n",
            "임만순이(가) 슬라임에게 7의 데미지를 입혔습니다.\n",
            "슬라임이(가) 임만순에게 19의 데미지를 입혔습니다.\n",
            "임만순이(가) 슬라임에게 25의 데미지를 입혔습니다.\n",
            "임만순이(가) 20의 경험치를 얻었습니다.\n",
            "전투 승리!\n",
            "고블린과(와) 전투 시작!\n",
            "임만순이(가) 고블린에게 3의 데미지를 입혔습니다.\n",
            "고블린이(가) 임만순에게 15의 데미지를 입혔습니다.\n",
            "임만순이(가) 고블린에게 1의 데미지를 입혔습니다.\n",
            "고블린이(가) 임만순에게 22의 데미지를 입혔습니다.\n",
            "임만순이(가) 고블린에게 25의 데미지를 입혔습니다.\n",
            "고블린이(가) 임만순에게 32의 데미지를 입혔습니다.\n",
            "임만순이(가) 고블린에게 2의 데미지를 입혔습니다.\n",
            "고블린이(가) 임만순에게 6의 데미지를 입혔습니다.\n",
            "임만순이(가) 고블린에게 13의 데미지를 입혔습니다.\n",
            "고블린이(가) 임만순에게 7의 데미지를 입혔습니다.\n",
            "임만순이(가) 고블린에게 25의 데미지를 입혔습니다.\n",
            "임만순이(가) 40의 경험치를 얻었습니다.\n",
            "임만순이(가) 레벨업했습니다! 현재 레벨 : 2\n",
            "전투 승리!\n",
            "오크과(와) 전투 시작!\n",
            "임만순이(가) 오크에게 33의 데미지를 입혔습니다.\n",
            "오크이(가) 임만순에게 15의 데미지를 입혔습니다.\n",
            "임만순이(가) 오크에게 3의 데미지를 입혔습니다.\n",
            "오크이(가) 임만순에게 25의 데미지를 입혔습니다.\n",
            "임만순이(가) 오크에게 35의 데미지를 입혔습니다.\n",
            "오크이(가) 임만순에게 28의 데미지를 입혔습니다.\n",
            "전투 패배..\n",
            "게임오버\n"
          ]
        }
      ],
      "source": [
        "import random\n",
        "\n",
        "class Character:    # 캐릭터 정의\n",
        "    def __init__(self, name, level, health, attack, defense):    # 캐릭터 속성 생성\n",
        "        self.name = name          # 이름\n",
        "        self.level = level        # 레벨\n",
        "        self.health = health      # 체력\n",
        "        self.attack = attack      # 공격력\n",
        "        self.defense = defense    # 방어력\n",
        "\n",
        "    def is_alive(self):    # 현재 체력 확인 (0 이상)\n",
        "        return self.health > 0\n",
        "\n",
        "    def take_damage(self, damage):    # 데미지를 받고 체력 감소\n",
        "        damage_taken = max(0, damage - self.defense)    # 실제 데미지 계산\n",
        "        self.health -= damage_taken  # 체력 감소\n",
        "\n",
        "    def attack_target(self, target):    # 타깃에게 데미지를 입힘\n",
        "        damage = random.randint(1, self.attack)    # 랜덤 데미지 계산 (1부터 공격)\n",
        "        target.take_damage(damage)    # 타깃 데미지\n",
        "        print(f\"{self.name}이(가) {target.name}에게 {damage}의 데미지를 입혔습니다.\")\n",
        "\n",
        "class Player(Character):    # 플레이어 정의\n",
        "    def __init__(self, name):\n",
        "        super().__init__(name, level = 1, health = 100, attack = 25, defense = 5)    # 플레이어 레벨1 초기값\n",
        "        self.experience = 0\n",
        "\n",
        "    def gain_experience(self, amount):\n",
        "        self.experience += amount\n",
        "        print(f\"{self.name}이(가) {amount}의 경험치를 얻었습니다.\")\n",
        "\n",
        "    def level_up(self):\n",
        "        if self.experience >= 50:    # 경험치 기준\n",
        "           self.level += 1    # 레벨업\n",
        "           self.attack += 10    # 공격력 증가\n",
        "           self.defense += 5    # 방어력 증가\n",
        "           self.experience -= 50\n",
        "           print(f\"{self.name}이(가) 레벨업했습니다! 현재 레벨 : {self.level}\")\n",
        "\n",
        "class Monster(Character):    # 몬스터 정의\n",
        "    def __init__(self, name, level):\n",
        "        health = random.randint(10, 30) * level    # 몬스터 체력 범위\n",
        "        attack = random.randint(5, 20) * level    # 몬스터 공격력 범위\n",
        "        defense = random.randint(1, 5) * level    # 몬스터 방어력 범위\n",
        "        super().__init__(name, level, health, attack, defense)\n",
        "\n",
        "    def battle(player, monster):\n",
        "        print(f\"{player.name}과(와) {monster.name}의 전투가 시작되었습니다!\")    # 배틀 정의\n",
        "        while player.is_alive() and monster.is_alive():\n",
        "            player.attack_target(monster)\n",
        "            if monster.is_alive():\n",
        "                monster.attack_targer(player)\n",
        "            else:\n",
        "                print(f\"{monster.name}이(가) 쓰러졌습니다!\")\n",
        "                player.gain_experience(monster.level * 20)\n",
        "                player.level_up()\n",
        "                break\n",
        "\n",
        "        if not player.is_alive():\n",
        "            print(\"전투 패배! 게임오버!\")\n",
        "\n",
        "    def main():\n",
        "        monster_dict = {'슬라임' : 1, '고블린' : 2, '오크' : 3}\n",
        "\n",
        "        player_name = input(\"플레이어의 이름을 입력하세요: \")    # 플레이어 생성\n",
        "        player = Player(player_name)\n",
        "\n",
        "\n",
        "    # 전투 시작\n",
        "    while player.is_alive() and monster.is_alive():\n",
        "        player.attack_target(monster)  # 플레이어가 몬스터를 공격합니다.\n",
        "        if monster.is_alive():\n",
        "            monster.attack_target(player)  # 몬스터가 플레이어를 공격합니다.\n",
        "\n",
        "        for monster_name, level in monster_dict.items():\n",
        "            monster = Monster(monster_name, level)    # 몬스터 생성\n",
        "            battle(player, monster)    # 플레이어와 몬스터의 전투\n",
        "            if not player.is_alive():    # 플레이어 전투 패배\n",
        "                print(\"게임오버!!!\")\n",
        "                break\n",
        "\n",
        "if __name__ == \"__main__\":    # 메인 함수 호출\n",
        "    main()"
      ]
    }
  ]
}