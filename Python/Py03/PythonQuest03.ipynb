{
  "nbformat": 4,
  "nbformat_minor": 0,
  "metadata": {
    "colab": {
      "provenance": [],
      "private_outputs": true,
      "include_colab_link": true
    },
    "kernelspec": {
      "name": "python3",
      "display_name": "Python 3"
    },
    "language_info": {
      "name": "python"
    }
  },
  "cells": [
    {
      "cell_type": "markdown",
      "metadata": {
        "id": "view-in-github",
        "colab_type": "text"
      },
      "source": [
        "<a href=\"https://colab.research.google.com/github/MSIMulti/AIFFEL_quest_cr/blob/master/Python/Py03/PythonQuest03.ipynb\" target=\"_parent\"><img src=\"https://colab.research.google.com/assets/colab-badge.svg\" alt=\"Open In Colab\"/></a>"
      ]
    },
    {
      "cell_type": "markdown",
      "source": [
        "# [파이썬] 퀘스트: 클로저를 활용한 문제해결하기\n",
        "\n",
        "난이도: ★★★★☆  \n",
        "장르: nonlocal, 클로저, 데코레이터 활용  \n",
        "\n",
        "---\n",
        "\n",
        "\n"
      ],
      "metadata": {
        "id": "sPRcyZsPorCm"
      }
    },
    {
      "cell_type": "markdown",
      "source": [
        "## 문제 1. 최댓값과 최솟값 찾기\n",
        "\n"
      ],
      "metadata": {
        "id": "Dh2vcnApr4VI"
      }
    },
    {
      "cell_type": "markdown",
      "source": [
        "조건:  \n",
        "* 주어진 리스트의 최댓값과 최솟값을 반환하는 클로저 함수를 완성해 주세요.\n",
        "    * 주어진 숫자 리스트 numbers에 대해 find_min_max 함수를 호출하면 find_min과 find_max 함수를 얻을 수 있습니다.\n",
        "    * find_min() 함수를 호출하면 최솟값을, find_max()함수를 호출하면 최댓값을 반환합니다.\n",
        "    * 클로저를 사용하여 min_value와 max_value 변수를 외부에 노출하지 않고도 최솟값과 최대값을 찾을 수 있습니다.\n",
        "    * find_min_max 함수가 호출된 이후에도 find_min과 find_max 함수를 통해 min_value와 max_value 변수에 접근할 수 있습니다.\n",
        "* 주석으로 구현 내용이 써있는 부분을 코드로 채워주세요.\n",
        "---\n",
        "입력:\n",
        "```python\n",
        "numbers = [10, 5, 8, 12, 3, 7]\n",
        "find_min, find_max = find_min_max(numbers)\n",
        "\n",
        "print(\"최솟값:\", find_min())  \n",
        "print(\"최댓값:\", find_max())  \n",
        "```\n",
        "---\n",
        "출력:\n",
        "```\n",
        "3\n",
        "12\n",
        "```\n"
      ],
      "metadata": {
        "id": "d-vXJztpvFD-"
      }
    },
    {
      "cell_type": "code",
      "source": [
        "def find_min_max(numbers):\n",
        "    # min_value와 max_value 변수를 초기화\n",
        "    # min_value는 양의 무한대(float('inf'))로 초기화하여 어떤 숫자보다도 큰 값으로 설정\n",
        "    min_value = float('inf')\n",
        "    # max_value는 음의 무한대(float('-inf'))로 초기화하여 어떤 숫자보다도 작은 값으로 설정\n",
        "    max_value = float('-inf')\n",
        "\n",
        "    def update_min_max(num):\n",
        "        # 외부함수의 변수인 min_value, max_value 참조\n",
        "        nonlocal min_value, max_value\n",
        "\n",
        "\n",
        "        # 만약 num 값이 min_value보다 작다면 min_value를 num 값으로 변경\n",
        "        if num < min_value:\n",
        "            min_value = num\n",
        "\n",
        "\n",
        "        # 만약 num 값이 max_value보다 크다면 max_value를 num 값으로 변경\n",
        "        if num > max_value:\n",
        "            max_value = num\n",
        "\n",
        "\n",
        "    # numbers 리스트의 모든 값을 순환하며 최댓값과 최솟값 업데이트\n",
        "    for num in numbers:\n",
        "        update_min_max(num)\n",
        "\n",
        "    # 최솟값을 반환하는 내부함수\n",
        "    def get_min():\n",
        "      return  min_value\n",
        "\n",
        "\n",
        "    # 최댓값을 반환하는 내부함수\n",
        "    def get_max():\n",
        "      return max_value\n",
        "\n",
        "\n",
        "    # 외부함수는 내부함수(get_min()과 get_max())를 반환\n",
        "    return get_min, get_max\n",
        "\n"
      ],
      "metadata": {
        "id": "oF_uYyS2jjPj"
      },
      "execution_count": null,
      "outputs": []
    },
    {
      "cell_type": "code",
      "source": [
        "numbers = [10, 5, 8, 12, 3, 7]\n",
        "find_min, find_max = find_min_max(numbers)\n",
        "\n",
        "print(\"최솟값:\", find_min())  # 3\n",
        "print(\"최댓값:\", find_max())  # 12"
      ],
      "metadata": {
        "id": "fCd_fJBrobxi"
      },
      "execution_count": null,
      "outputs": []
    },
    {
      "cell_type": "markdown",
      "source": [
        "![1.최댓값과최솟값.png](data:image/png;base64,iVBORw0KGgoAAAANSUhEUgAAAKAAAAAvCAIAAADrS1Z3AAADt0lEQVR42u2azUs6QRjH114PHYTo0CWwpEOF/4HHDoFX6Q/oL7CQIESINJAuSoFEiAf/CC/exZOJFFQHQaToxT0oJARSv+fHwiL7Mi+7s+04zfc0zozjs/PZZ+aZeQz8/PwoUuIqIAGLLQlYcEnAgksCFlwSsOCSgAUXHeCPjw9VVbHdlpaW1tbW/H40qf+iAHx/f5/P57+/v0k67+3t7e/vu7FsY2Nj8mOn09Hr9bLltyxb7UYjGXOqRQH48vLy7u4uHA5je76+vsKwhULBC4udAUZ3cwx48r3h8xWhAFwqlWCJPjk5wfasVCr1ev36+tqxWQaH06TNINpHoUkvoMd3D5jVW+KpKACPx+Ovry/YX/Ua+Li4uOipfeZZM0+rVjB3s6wnHISElmiADYLN+OzsbHd3NxqNemcfFjC2v7MxHdASDfD7+3s6nQa3Pjo62tnZ8cI4bcqoHAXbqlj5tBs26KXCd7k6B7darWKxuLCwcHp6urKyMhwOLy4uXl5etNaZmRkt5J6bmzs8PNza2qKdOMsF01DGjqPv3Io9AybON90efHV1dXt7a9cKp17wZgD5+fmZy+Wen5/1JqhMJBLb29tUM6XY7Klmh+ZHfBrGBjCcnY6Pj+fn56E8GAyy2ayqquDBgUAAfJeKLnbW3BxpsEuCm1+ZbsCW6vV65+fny8vLqVRqMrp+e3uD+tnZ2YODg0gk4sY+hkEWc8CCR9H9fj+TyUABFmfYgA2tsEqPRqPNzU2X9rEFPPmR6kRE8luiAYb4uVAoxOPxUCjE1iZE6ITYg7EXHZZeaxmoOzOVQ7rKNGaT3Fx0TFYa3gM+/c+9KABXq9WnpycIibE9a7Vas9mEsAuCLL8f8K+LAnC5XG40GrFYDNuz3W53u92bmxsIpP1+wL8uCsBAF5gRdoajUTKZ9PvppCj34IeHh8fHx9XV1WAwiOgGjru+vq4di6X8Fb9BFuGpxhzHGiJk9GiWY4okfgHbifyOgvDSQ3GdbLAL4BUOzk6cAiZM+PsO2Hzm5u32g1PAutA3WXaA9TI5YEN/cjBoohIwRs4AY//cwzDhz+Q/Yt6Ja8DYhD8tYI8S/p6mmV2KX8CEyR9zeIyIor0gQb5O+CIeAbNK+P/OFLNKJ3skHgFPiud8sDMLf1kSMGPAXNFVBAOMTu4yT/hbfl0CxstBwt+c3FWQ95GsEv4KLuhT/L7M4hEwWpYTiv6Ph6FGkQl/KWEkAQsuCVhwScCCSwIWXBKw4JKABZcELLgkYMH1Dw03ntBWpS+MAAAAAElFTkSuQmCC)"
      ],
      "metadata": {
        "id": "GVRS55JJ2CUg"
      }
    },
    {
      "cell_type": "markdown",
      "source": [
        "## 문제 2. 함수의 호출 횟수를 세는 데코레이터"
      ],
      "metadata": {
        "id": "d3XECsmXwES5"
      }
    },
    {
      "cell_type": "markdown",
      "source": [
        "지난 시간에 배운 데코레이터를 기억하시나요? 데코레이터도 내부함수를 반환하는 클로저를 활용한 문법입니다. 클로저를 활용하여 함수 호출 횟수를 출력하는 데코레이터를 만들어봅시다.\n",
        "\n",
        "조건:\n",
        "* 함수가 실행될 때 마다 함수 이름과 실행 횟수를 출력하는 데코레이터 `counter` 만들기  \n",
        "\n",
        "힌트:\n",
        "* 데코레이터의 내부 함수(클로저)는 실행횟수를 기억하기 위해 외부 함수의 변수를 참조 해야 합니다\n",
        "* 함수의 이름은 `함수이름.__name__`으로 접근할 수 있습니다.\n",
        "\n",
        "---\n",
        "입력:\n",
        "```python\n",
        "@counter\n",
        "def say_hello():\n",
        "    print(\"Hello Aiffel!\")\n",
        "\n",
        "for i in range(5):\n",
        "    say_hello()\n",
        "```\n",
        "---\n",
        "출력:\n",
        "```\n",
        "Hello Aiffel!\n",
        "say_hello 실행횟수: 1\n",
        "Hello Aiffel!\n",
        "say_hello 실행횟수: 2\n",
        "Hello Aiffel!\n",
        "say_hello 실행횟수: 3\n",
        "Hello Aiffel!\n",
        "say_hello 실행횟수: 4\n",
        "Hello Aiffel!\n",
        "say_hello 실행횟수: 5\n",
        "```"
      ],
      "metadata": {
        "id": "HTdH6DkVvJMF"
      }
    },
    {
      "cell_type": "code",
      "source": [
        "def counter(fn):\n",
        "  count = 0\n",
        "\n",
        "  def say_count():\n",
        "    nonlocal count\n",
        "    count += 1\n",
        "    fn()\n",
        "    print(f\"say_hello 실행횟수: {count}\")\n",
        "\n",
        "  return say_count"
      ],
      "metadata": {
        "id": "omqfrl7Zl5nK"
      },
      "execution_count": null,
      "outputs": []
    },
    {
      "cell_type": "code",
      "source": [
        "@counter\n",
        "def say_hello():\n",
        "    print(\"Hello Aiffel!\")\n",
        "\n",
        "for i in range(5):\n",
        "    say_hello()"
      ],
      "metadata": {
        "id": "QYdFtnf-MOCg"
      },
      "execution_count": null,
      "outputs": []
    },
    {
      "cell_type": "markdown",
      "source": [
        "![2.함수호출횟수데코레이터.png](data:image/png;base64,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)"
      ],
      "metadata": {
        "id": "2TZBRHTY2hI3"
      }
    },
    {
      "cell_type": "markdown",
      "source": [
        "# 회고\n",
        "\n",
        "# [임만순]\n",
        "최댓값과 최솟값을 찾는 문제에서 해당하는 조건을 보고 어떤 명령어를 사용해야 하는지 어려움을 느꼈는데, 전체적인 틀이 기재된 상태였기 때문에 이를 토대로 요구사항을 동료 승기씨와 함께 의견을 공유하며 한 줄씩 해결해 나갔습니다. 함수의 호출 횟수 데코레이터에서는 데코레이터 개념부터 다시 확인하고, 처음에는 외부함수 2개를 만들어서 코드가 길고 난잡했는데, 커뮤니케이션을 통해 외부함수를 줄이고 코드를 좀 더 간결하게 만들 수 있었습니다.\n",
        "\n",
        "---\n",
        "\n",
        "# [김승기]\n",
        "일단 문제를 받고 보니 막막했습니다. 주석이 적혀있는 무수한 코드줄은 뇌를 강타했고 어디부터 시작해야할지 몰랐습니다. 하지만 주석을 유심히 보니 코드에 대한 자세한 설명이 나와있는 것을 확인할 수 있었습니다. 만순님과 의논하며 코드 설명대로 작성해보니 정상적으로 실행되는 것을 확인할 수 있었습니다.\n",
        "\n",
        "두번째 문제에서 데코레이터에 관한 내용이 가물가물해서 LMS예제를 참고하며 수행했습니다.\n",
        "이전 데코레이터 예제에 지역변수 개념을 적용하니 생각보다 쉬웠던 문제였습니다."
      ],
      "metadata": {
        "id": "iy9KNyeWr4dC"
      }
    }
  ]
}