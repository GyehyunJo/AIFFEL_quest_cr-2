{
  "nbformat": 4,
  "nbformat_minor": 0,
  "metadata": {
    "colab": {
      "provenance": [],
      "mount_file_id": "1AuUfLd-9Rn1I7PuHMlQSs1oLguCa8Or3",
      "authorship_tag": "ABX9TyN7eHQz+i/kc7Kn+/QFomt2",
      "include_colab_link": true
    },
    "kernelspec": {
      "name": "python3",
      "display_name": "Python 3"
    },
    "language_info": {
      "name": "python"
    }
  },
  "cells": [
    {
      "cell_type": "markdown",
      "metadata": {
        "id": "view-in-github",
        "colab_type": "text"
      },
      "source": [
        "<a href=\"https://colab.research.google.com/github/MSIMulti/AIFFEL_quest_cr/blob/master/QuestC_240826.ipynb\" target=\"_parent\"><img src=\"https://colab.research.google.com/assets/colab-badge.svg\" alt=\"Open In Colab\"/></a>"
      ]
    },
    {
      "cell_type": "code",
      "execution_count": null,
      "metadata": {
        "colab": {
          "base_uri": "https://localhost:8080/"
        },
        "id": "91A2aHP_Se-A",
        "outputId": "625a31a8-c30e-4ca2-edf8-345aef0f0f9d"
      },
      "outputs": [
        {
          "output_type": "stream",
          "name": "stdout",
          "text": [
            "Drive already mounted at /content/drive; to attempt to forcibly remount, call drive.mount(\"/content/drive\", force_remount=True).\n"
          ]
        }
      ],
      "source": [
        "def encoder(lines):\n",
        "  import re # 정규표현식 regular expression\n",
        "\n",
        "  # 텍스트 파일 불러오기\n",
        "  file_path = \"/content/drive/MyDrive/aiffel/Avengers.txt\"\n",
        "  f = open(file_path, 'r')\n",
        "  lines = f.readlines() # 리스트 자료형\n",
        "\n",
        "  avengers_dict = {}\n",
        "  for line in lines:\n",
        "\n",
        "    # 소문자 변환\n",
        "    line = line.lower()\n",
        "\n",
        "    # 특수문자 제거\n",
        "    line = re.sub(r'[^a-zA-Z0-9ㄱ-힣\\s]', '', line) # substitute 대체하다\n",
        "\n",
        "    # 단어 분리 및 빈도수 누적 \"Hello World I am boy\" -> list\n",
        "    for word in line.split(): # 단어 분리\n",
        "      if word not in avengers_dict: # 단어가 딕셔너리에 없을 경우\n",
        "        avengers_dict[word] = 1 # 키 생성 및 값 1\n",
        "\n",
        "      else: # 있을 경우\n",
        "        avengers_dict[word] += 1 # 누적(값 변경)\n",
        "\n",
        "  # 빈도수 정렬\n",
        "  sorted_dict = dict(sorted(avengers_dict.items(), key=lambda item: item[1], reverse=True)) # 내림차순 정렬\n",
        "\n",
        "  # 빈도수가 높은 단어순으로 정수 매칭\n",
        "  dic = {}\n",
        "  for index, word in enumerate(sorted_dict.keys()): # enumerate는 순서 부여, index는 순서, word는 키(단어)\n",
        "    dic[word] = index\n",
        "\n",
        "\n",
        "  # 문장 입력 받기\n",
        "  text = input(\"입력하세요: \") # The world will be his and the universe yours\n",
        "\n",
        "  # 입력된 단어를 정수로 바꾸기\n",
        "  for word in text.split():\n",
        "    if word in dic:\n",
        "      print(f\"입력된 단어 : {word}, 빈도수 : {sorted_dict[word]}, 할당된 정수값 : {dic[word]}\")\n",
        "\n",
        "    else: # 원하는 단어가 딕셔너리에 없는 경우\n",
        "      print(f\"입력된 단어 : {word}, 빈도수 : 없음, 할당된 정수값 : 없음\")"
      ]
    },
    {
      "cell_type": "code",
      "source": [
        "encoder(lines) # The world will be his and the universe yours"
      ],
      "metadata": {
        "id": "-1hnN8YzUP7x"
      },
      "execution_count": null,
      "outputs": []
    },
    {
      "cell_type": "code",
      "source": [
        "encoder(lines) # Clear out the tech below."
      ],
      "metadata": {
        "colab": {
          "base_uri": "https://localhost:8080/",
          "height": 141
        },
        "id": "8sXcQrbvXlx1",
        "outputId": "1f83e671-8518-40d2-e015-eb8f8be155bc"
      },
      "execution_count": null,
      "outputs": [
        {
          "output_type": "error",
          "ename": "NameError",
          "evalue": "name 'f' is not defined",
          "traceback": [
            "\u001b[0;31m---------------------------------------------------------------------------\u001b[0m",
            "\u001b[0;31mNameError\u001b[0m                                 Traceback (most recent call last)",
            "\u001b[0;32m<ipython-input-5-d1e99c5e7da7>\u001b[0m in \u001b[0;36m<cell line: 1>\u001b[0;34m()\u001b[0m\n\u001b[0;32m----> 1\u001b[0;31m \u001b[0mlines\u001b[0m \u001b[0;34m=\u001b[0m \u001b[0mf\u001b[0m\u001b[0;34m.\u001b[0m\u001b[0mreadlines\u001b[0m\u001b[0;34m(\u001b[0m\u001b[0;34m)\u001b[0m\u001b[0;34m\u001b[0m\u001b[0;34m\u001b[0m\u001b[0m\n\u001b[0m",
            "\u001b[0;31mNameError\u001b[0m: name 'f' is not defined"
          ]
        }
      ]
    },
    {
      "cell_type": "code",
      "source": [
        "encoder(lines) # If we turn off the power, she turns it back on."
      ],
      "metadata": {
        "id": "j1yfDWHFXt4E",
        "outputId": "083431cc-ce95-4188-93dc-81817f39a592",
        "colab": {
          "base_uri": "https://localhost:8080/",
          "height": 141
        }
      },
      "execution_count": null,
      "outputs": [
        {
          "output_type": "error",
          "ename": "NameError",
          "evalue": "name 'lines' is not defined",
          "traceback": [
            "\u001b[0;31m---------------------------------------------------------------------------\u001b[0m",
            "\u001b[0;31mNameError\u001b[0m                                 Traceback (most recent call last)",
            "\u001b[0;32m<ipython-input-6-0bb4bdaab381>\u001b[0m in \u001b[0;36m<cell line: 1>\u001b[0;34m()\u001b[0m\n\u001b[0;32m----> 1\u001b[0;31m \u001b[0mlines\u001b[0m\u001b[0;34m\u001b[0m\u001b[0;34m\u001b[0m\u001b[0m\n\u001b[0m",
            "\u001b[0;31mNameError\u001b[0m: name 'lines' is not defined"
          ]
        }
      ]
    }
  ]
}